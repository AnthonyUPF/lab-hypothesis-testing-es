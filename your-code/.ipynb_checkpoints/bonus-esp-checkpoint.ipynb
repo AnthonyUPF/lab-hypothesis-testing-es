{
 "cells": [
  {
   "cell_type": "markdown",
   "metadata": {},
   "source": [
    "# Desafío 1 - T-test\n",
    "\n",
    "En estadística, la prueba t se utiliza para verificar si dos muestras de datos tienen una diferencia significativa entre sus medias. Hay dos tipos de t-test:\n",
    "\n",
    "* **T-test de Student** (también conocida como prueba t independiente o no correlacionada). Este tipo de prueba t se utiliza para comparar las muestras de dos poblaciones independientes (por ejemplo, los puntajes de pruebas de estudiantes en dos clases diferentes). `scipy` proporciona el método [`ttest_ind`](https://docs.scipy.org/doc/scipy-0.15.1/reference/generated/scipy.stats.ttest_ind.html) para realizar la prueba t de Student.\n",
    "\n",
    "* **T-test pareada** (también conocida como prueba t dependiente o correlacionada). Este tipo de prueba t se utiliza para comparar las muestras de **la misma población** (por ejemplo, los puntajes de diferentes pruebas de estudiantes en la misma clase). `scipy` proporciona el método [`ttest_re`](https://docs.scipy.org/doc/scipy-0.15.1/reference/generated/scipy.stats.ttest_rel.html) para realizar la prueba t pareada.\n",
    "\n",
    "Ambos tipos de pruebas t devuelven un número llamado **valor p** (**p-value**). Si el valor p está por debajo de 0.05, podemos declarar con confianza que se rechaza la hipótesis nula y que la diferencia es significativa. Si el valor p está entre 0.05 y 0.1, también podemos declarar que se rechaza la hipótesis nula, pero no con alta confianza. Si el valor p está por encima de 0.1, no rechazamos la hipótesis nula.\n",
    "\n",
    "Lee más sobre la t-test en [este artículo](https://researchbasics.education.uconn.edu/t-test/) and [esta página de Quora](https://www.quora.com/What-is-the-difference-between-a-paired-and-unpaired-t-test). Asegúrate de entender cuándo usar cada tipo de t-test. "
   ]
  },
  {
   "cell_type": "code",
   "execution_count": 1,
   "metadata": {},
   "outputs": [],
   "source": [
    "# Import libraries\n",
    "\n",
    "import pandas as pd"
   ]
  },
  {
   "cell_type": "markdown",
   "metadata": {},
   "source": [
    "#### Importar conjunto de datos\n",
    "\n",
    "En este desafío, trabajaremos con el conjunto de datos de Pokémon que utilizaste la semana pasada. El objetivo es probar si diferentes grupos de Pokémon (por ejemplo, Legendarios vs. Normales, Generación 1 vs. Generación 2, tipo único vs. tipo dual) tienen diferentes estadísticas (por ejemplo, HP, Ataque, Defensa, etc.)."
   ]
  },
  {
   "cell_type": "code",
   "execution_count": 2,
   "metadata": {},
   "outputs": [
    {
     "data": {
      "text/plain": [
       "#              int64\n",
       "Name          object\n",
       "Type 1        object\n",
       "Type 2        object\n",
       "Total          int64\n",
       "HP             int64\n",
       "Attack         int64\n",
       "Defense        int64\n",
       "Sp. Atk        int64\n",
       "Sp. Def        int64\n",
       "Speed          int64\n",
       "Generation     int64\n",
       "Legendary       bool\n",
       "dtype: object"
      ]
     },
     "execution_count": 2,
     "metadata": {},
     "output_type": "execute_result"
    }
   ],
   "source": [
    "# Import dataset (Pokemon.csv)\n",
    "\n",
    "pokemon_data = pd.read_csv('../data/Pokemon.csv')\n",
    "\n",
    "pokemon_data.dtypes"
   ]
  },
  {
   "cell_type": "code",
   "execution_count": 3,
   "metadata": {},
   "outputs": [
    {
     "data": {
      "text/html": [
       "<div>\n",
       "<style scoped>\n",
       "    .dataframe tbody tr th:only-of-type {\n",
       "        vertical-align: middle;\n",
       "    }\n",
       "\n",
       "    .dataframe tbody tr th {\n",
       "        vertical-align: top;\n",
       "    }\n",
       "\n",
       "    .dataframe thead th {\n",
       "        text-align: right;\n",
       "    }\n",
       "</style>\n",
       "<table border=\"1\" class=\"dataframe\">\n",
       "  <thead>\n",
       "    <tr style=\"text-align: right;\">\n",
       "      <th></th>\n",
       "      <th>#</th>\n",
       "      <th>Name</th>\n",
       "      <th>Type 1</th>\n",
       "      <th>Type 2</th>\n",
       "      <th>Total</th>\n",
       "      <th>HP</th>\n",
       "      <th>Attack</th>\n",
       "      <th>Defense</th>\n",
       "      <th>Sp. Atk</th>\n",
       "      <th>Sp. Def</th>\n",
       "      <th>Speed</th>\n",
       "      <th>Generation</th>\n",
       "      <th>Legendary</th>\n",
       "    </tr>\n",
       "  </thead>\n",
       "  <tbody>\n",
       "    <tr>\n",
       "      <th>0</th>\n",
       "      <td>1</td>\n",
       "      <td>Bulbasaur</td>\n",
       "      <td>Grass</td>\n",
       "      <td>Poison</td>\n",
       "      <td>318</td>\n",
       "      <td>45</td>\n",
       "      <td>49</td>\n",
       "      <td>49</td>\n",
       "      <td>65</td>\n",
       "      <td>65</td>\n",
       "      <td>45</td>\n",
       "      <td>1</td>\n",
       "      <td>False</td>\n",
       "    </tr>\n",
       "    <tr>\n",
       "      <th>1</th>\n",
       "      <td>2</td>\n",
       "      <td>Ivysaur</td>\n",
       "      <td>Grass</td>\n",
       "      <td>Poison</td>\n",
       "      <td>405</td>\n",
       "      <td>60</td>\n",
       "      <td>62</td>\n",
       "      <td>63</td>\n",
       "      <td>80</td>\n",
       "      <td>80</td>\n",
       "      <td>60</td>\n",
       "      <td>1</td>\n",
       "      <td>False</td>\n",
       "    </tr>\n",
       "    <tr>\n",
       "      <th>2</th>\n",
       "      <td>3</td>\n",
       "      <td>Venusaur</td>\n",
       "      <td>Grass</td>\n",
       "      <td>Poison</td>\n",
       "      <td>525</td>\n",
       "      <td>80</td>\n",
       "      <td>82</td>\n",
       "      <td>83</td>\n",
       "      <td>100</td>\n",
       "      <td>100</td>\n",
       "      <td>80</td>\n",
       "      <td>1</td>\n",
       "      <td>False</td>\n",
       "    </tr>\n",
       "    <tr>\n",
       "      <th>3</th>\n",
       "      <td>3</td>\n",
       "      <td>VenusaurMega Venusaur</td>\n",
       "      <td>Grass</td>\n",
       "      <td>Poison</td>\n",
       "      <td>625</td>\n",
       "      <td>80</td>\n",
       "      <td>100</td>\n",
       "      <td>123</td>\n",
       "      <td>122</td>\n",
       "      <td>120</td>\n",
       "      <td>80</td>\n",
       "      <td>1</td>\n",
       "      <td>False</td>\n",
       "    </tr>\n",
       "    <tr>\n",
       "      <th>4</th>\n",
       "      <td>4</td>\n",
       "      <td>Charmander</td>\n",
       "      <td>Fire</td>\n",
       "      <td>NaN</td>\n",
       "      <td>309</td>\n",
       "      <td>39</td>\n",
       "      <td>52</td>\n",
       "      <td>43</td>\n",
       "      <td>60</td>\n",
       "      <td>50</td>\n",
       "      <td>65</td>\n",
       "      <td>1</td>\n",
       "      <td>False</td>\n",
       "    </tr>\n",
       "  </tbody>\n",
       "</table>\n",
       "</div>"
      ],
      "text/plain": [
       "   #                   Name Type 1  Type 2  Total  HP  Attack  Defense  \\\n",
       "0  1              Bulbasaur  Grass  Poison    318  45      49       49   \n",
       "1  2                Ivysaur  Grass  Poison    405  60      62       63   \n",
       "2  3               Venusaur  Grass  Poison    525  80      82       83   \n",
       "3  3  VenusaurMega Venusaur  Grass  Poison    625  80     100      123   \n",
       "4  4             Charmander   Fire     NaN    309  39      52       43   \n",
       "\n",
       "   Sp. Atk  Sp. Def  Speed  Generation  Legendary  \n",
       "0       65       65     45           1      False  \n",
       "1       80       80     60           1      False  \n",
       "2      100      100     80           1      False  \n",
       "3      122      120     80           1      False  \n",
       "4       60       50     65           1      False  "
      ]
     },
     "execution_count": 3,
     "metadata": {},
     "output_type": "execute_result"
    }
   ],
   "source": [
    "pokemon_data.head()"
   ]
  },
  {
   "cell_type": "markdown",
   "metadata": {},
   "source": [
    "#### Primero queremos definir una función con la cual podamos probar las medias de un conjunto de características de dos muestras.\n",
    "\n",
    "En la siguiente celda verás las anotaciones de la función de Python que explican qué hace esta función, sus argumentos y el valor devuelto. Este tipo de anotación se llama **docstring**, que es una convención utilizada entre los desarrolladores de Python. La convención de docstring permite a los desarrolladores escribir documentaciones técnicas consistentes para sus códigos para que otros puedan leerlas. También permite que algunos sitios web analicen automáticamente las docstrings y muestren documentaciones amigables para el usuario.\n",
    "\n",
    "Sigue las especificaciones del docstring y completa la función."
   ]
  },
  {
   "cell_type": "code",
   "execution_count": 4,
   "metadata": {},
   "outputs": [],
   "source": [
    "from scipy.stats import ttest_ind\n",
    "\n",
    "def t_test_features(data, features, field, group1_label, group2_label):\n",
    "    \"\"\"\n",
    "    Realiza una prueba t independiente en las características especificadas para dos grupos dentro de un conjunto de datos.\n",
    "\n",
    "    Parámetros:\n",
    "    data (pd.DataFrame): El conjunto de datos que contiene los datos a probar.\n",
    "    features (list of str): La lista de nombres de características sobre las cuales realizar la prueba t.\n",
    "    field (str): El nombre de la columna que contiene las etiquetas de los grupos.\n",
    "    group1_label (str o int): La etiqueta para el primer grupo.\n",
    "    group2_label (str o int): La etiqueta para el segundo grupo.\n",
    "\n",
    "    Retorna:\n",
    "    dict: Un diccionario donde las claves son nombres de características y los valores son los valores p de la prueba t.\n",
    "    \"\"\"\n",
    "    p_values = {}\n",
    "\n",
    "    for feature in features:\n",
    "        group1 = data[data[field] == group1_label][feature]\n",
    "        group2 = data[data[field] == group2_label][feature]\n",
    "\n",
    "        # Realizando la prueba t independiente\n",
    "        t_statistic, p_value = ttest_ind(group1, group2, equal_var=False)\n",
    "        p_values[feature] = p_value\n",
    "    \n",
    "    return p_values"
   ]
  },
  {
   "cell_type": "markdown",
   "metadata": {},
   "source": [
    "#### Usando la función `t_test_features`, realiza la prueba t para los Pokémon Legendarios vs no Legendarios.\n",
    "\n",
    "*Pista: tu resultado debería verse como el siguiente:*\n",
    "\n",
    "```\n",
    "{'HP': 1.0026911708035284e-13,\n",
    " 'Attack': 2.520372449236646e-16,\n",
    " 'Defense': 4.8269984949193316e-11,\n",
    " 'Sp. Atk': 1.5514614112239812e-21,\n",
    " 'Sp. Def': 2.2949327864052826e-15,\n",
    " 'Speed': 1.049016311882451e-18,\n",
    " 'Total': 9.357954335957446e-47}\n",
    " ```"
   ]
  },
  {
   "cell_type": "code",
   "execution_count": 5,
   "metadata": {},
   "outputs": [
    {
     "data": {
      "text/plain": [
       "{'HP': 1.0026911708035284e-13,\n",
       " 'Attack': 2.520372449236646e-16,\n",
       " 'Defense': 4.8269984949193316e-11,\n",
       " 'Sp. Atk': 1.5514614112239812e-21,\n",
       " 'Sp. Def': 2.2949327864052826e-15,\n",
       " 'Speed': 1.049016311882451e-18,\n",
       " 'Total': 9.357954335957446e-47}"
      ]
     },
     "execution_count": 5,
     "metadata": {},
     "output_type": "execute_result"
    }
   ],
   "source": [
    "# Your code here\n",
    "\n",
    "features = ['HP', 'Attack', 'Defense', 'Sp. Atk', 'Sp. Def', 'Speed', 'Total']\n",
    "field = 'Legendary'\n",
    "group1_label = True\n",
    "group2_label = False\n",
    "\n",
    "p_values_dict = t_test_features(pokemon_data, features, field, group1_label, group2_label)\n",
    "p_values_dict"
   ]
  },
  {
   "cell_type": "markdown",
   "metadata": {},
   "source": [
    "#### A partir de los resultados de la prueba anterior, ¿qué conclusión puedes sacar? ¿Tienen los Pokémon Legendarios y no Legendarios estadísticas significativamente diferentes en cada característica?"
   ]
  },
  {
   "cell_type": "code",
   "execution_count": 6,
   "metadata": {},
   "outputs": [],
   "source": [
    "# Your comment here\n",
    "\n",
    "def analyze_ttest_results(p_values_dict, alpha=0.05):\n",
    "    \"\"\"\n",
    "    Analiza los resultados de las pruebas t de Student y proporciona una conclusión\n",
    "    sobre si los Pokémon Legendarios y no Legendarios tienen estadísticas significativamente diferentes.\n",
    "\n",
    "    Parameters:\n",
    "    - p_values_dict (dict): Un diccionario donde las claves son las características y los valores son los valores p correspondientes.\n",
    "    - alpha (float): Nivel de significancia para la prueba, por defecto 0.05.\n",
    "\n",
    "    Returns:\n",
    "    - dict: Un diccionario donde las claves son las características y los valores son True si la diferencia es significativa (valor p < alpha),\n",
    "            False si la diferencia no es significativa (valor p >= alpha).\n",
    "    \"\"\"\n",
    "    conclusions = {}\n",
    "\n",
    "    for feature, p_value in p_values_dict.items():\n",
    "        if p_value < alpha:\n",
    "            conclusions[feature] = 'Hay una diferencia significativa'\n",
    "        else:\n",
    "            conclusions[feature] = 'No hay una diferencia significativa'\n",
    "            \n",
    "    return conclusions\n"
   ]
  },
  {
   "cell_type": "code",
   "execution_count": 7,
   "metadata": {},
   "outputs": [
    {
     "data": {
      "text/plain": [
       "{'HP': 'Hay una diferencia significativa',\n",
       " 'Attack': 'Hay una diferencia significativa',\n",
       " 'Defense': 'Hay una diferencia significativa',\n",
       " 'Sp. Atk': 'Hay una diferencia significativa',\n",
       " 'Sp. Def': 'Hay una diferencia significativa',\n",
       " 'Speed': 'Hay una diferencia significativa',\n",
       " 'Total': 'Hay una diferencia significativa'}"
      ]
     },
     "execution_count": 7,
     "metadata": {},
     "output_type": "execute_result"
    }
   ],
   "source": [
    "# Analizar los resultados\n",
    "conclusions = analyze_ttest_results(p_values_dict)\n",
    "conclusions "
   ]
  },
  {
   "cell_type": "markdown",
   "metadata": {},
   "source": [
    "#### A continuación, realiza la prueba t (t-test) para los Pokémon de la Generación 1 (Generation 1) y la Generación 2 (Generation 2)."
   ]
  },
  {
   "cell_type": "code",
   "execution_count": 8,
   "metadata": {},
   "outputs": [
    {
     "data": {
      "text/plain": [
       "{'HP': 0.14551697834219623,\n",
       " 'Attack': 0.24721958967217725,\n",
       " 'Defense': 0.5677711011725426,\n",
       " 'Sp. Atk': 0.12332165977104388,\n",
       " 'Sp. Def': 0.18829872292645752,\n",
       " 'Speed': 0.00239265937312135,\n",
       " 'Total': 0.5631377907941676}"
      ]
     },
     "execution_count": 8,
     "metadata": {},
     "output_type": "execute_result"
    }
   ],
   "source": [
    "# Your code here\n",
    "\n",
    "features = ['HP', 'Attack', 'Defense', 'Sp. Atk', 'Sp. Def', 'Speed', 'Total']\n",
    "field = 'Generation'\n",
    "group1_label = 1  \n",
    "group2_label = 2  \n",
    "\n",
    "p_values_gen1_gen2 = t_test_features(pokemon_data, features, field, group1_label, group2_label)\n",
    "p_values_gen1_gen2"
   ]
  },
  {
   "cell_type": "markdown",
   "metadata": {},
   "source": [
    "#### ¿Qué conclusiones puedes sacar?"
   ]
  },
  {
   "cell_type": "code",
   "execution_count": 9,
   "metadata": {},
   "outputs": [
    {
     "data": {
      "text/plain": [
       "{'HP': 'No hay una diferencia significativa',\n",
       " 'Attack': 'No hay una diferencia significativa',\n",
       " 'Defense': 'No hay una diferencia significativa',\n",
       " 'Sp. Atk': 'No hay una diferencia significativa',\n",
       " 'Sp. Def': 'No hay una diferencia significativa',\n",
       " 'Speed': 'Hay una diferencia significativa',\n",
       " 'Total': 'No hay una diferencia significativa'}"
      ]
     },
     "execution_count": 9,
     "metadata": {},
     "output_type": "execute_result"
    }
   ],
   "source": [
    "# Your comment here\n",
    "\n",
    "conclusions = analyze_ttest_results(p_values_gen1_gen2)\n",
    "conclusions"
   ]
  },
  {
   "cell_type": "markdown",
   "metadata": {},
   "source": [
    "#### Compara los Pokémon que tienen un solo tipo vs aquellos que tienen dos tipos."
   ]
  },
  {
   "cell_type": "code",
   "execution_count": 10,
   "metadata": {},
   "outputs": [],
   "source": [
    "# Your code here\n",
    "\n",
    "def t_test_features_nan(data, features, field, group1_label, group2_label):\n",
    "    \"\"\"\n",
    "    Realiza una prueba t independiente en las características especificadas para dos grupos dentro de un conjunto de datos.\n",
    "\n",
    "    Parámetros:\n",
    "    data (pd.DataFrame): El conjunto de datos que contiene los datos a probar.\n",
    "    features (list of str): La lista de nombres de características sobre las cuales realizar la prueba t.\n",
    "    field (str): El nombre de la columna que contiene las etiquetas de los grupos.\n",
    "    group1_label (object): La etiqueta que identifica al primer grupo (en este caso, NaN).\n",
    "    group2_label (object): La etiqueta que identifica al segundo grupo (en este caso, no NaN).\n",
    "\n",
    "    Retorna:\n",
    "    dict: Un diccionario donde las claves son nombres de características y los valores son los valores p de la prueba t.\n",
    "    \"\"\"\n",
    "    p_values = {}\n",
    "\n",
    "    for feature in features:\n",
    "        group1 = data[data[field].isna()][feature]  # Pokémon con un solo tipo (NaN en Type 2)\n",
    "        group2 = data[data[field].notna()][feature]  # Pokémon con dos tipos (no NaN en Type 2)\n",
    "\n",
    "        # Realizando la prueba t independiente\n",
    "        t_statistic, p_value = ttest_ind(group1, group2, equal_var=False)\n",
    "        p_values[feature] = p_value\n",
    "    \n",
    "    return p_values"
   ]
  },
  {
   "cell_type": "code",
   "execution_count": 11,
   "metadata": {},
   "outputs": [
    {
     "data": {
      "text/plain": [
       "{'HP': 0.11314389855379413,\n",
       " 'Attack': 0.00014932578145948305,\n",
       " 'Defense': 2.7978540411514693e-08,\n",
       " 'Sp. Atk': 0.00013876216585667907,\n",
       " 'Sp. Def': 0.00010730610934512779,\n",
       " 'Speed': 0.02421703281819093,\n",
       " 'Total': 1.1157056505229961e-07}"
      ]
     },
     "execution_count": 11,
     "metadata": {},
     "output_type": "execute_result"
    }
   ],
   "source": [
    "\n",
    "features = ['HP', 'Attack', 'Defense', 'Sp. Atk', 'Sp. Def', 'Speed', 'Total']\n",
    "field = 'Type 2'\n",
    "group1_label = None  # Etiqueta para Pokémon con un solo tipo (NaN en Type 2)\n",
    "group2_label = 'Not None'  # Etiqueta para Pokémon con dos tipos (no NaN en Type 2)\n",
    "\n",
    "p_values_type2 = t_test_features_nan(pokemon_data, features, field, group1_label, group2_label)\n",
    "p_values_type2"
   ]
  },
  {
   "cell_type": "markdown",
   "metadata": {},
   "source": [
    "#### ¿Qué conclusiones puedes sacar?"
   ]
  },
  {
   "cell_type": "code",
   "execution_count": 12,
   "metadata": {},
   "outputs": [
    {
     "data": {
      "text/plain": [
       "{'HP': 'No hay una diferencia significativa',\n",
       " 'Attack': 'Hay una diferencia significativa',\n",
       " 'Defense': 'Hay una diferencia significativa',\n",
       " 'Sp. Atk': 'Hay una diferencia significativa',\n",
       " 'Sp. Def': 'Hay una diferencia significativa',\n",
       " 'Speed': 'Hay una diferencia significativa',\n",
       " 'Total': 'Hay una diferencia significativa'}"
      ]
     },
     "execution_count": 12,
     "metadata": {},
     "output_type": "execute_result"
    }
   ],
   "source": [
    "# Your comment here\n",
    "\n",
    "conclusions = analyze_ttest_results(p_values_type2)\n",
    "conclusions"
   ]
  },
  {
   "cell_type": "markdown",
   "metadata": {},
   "source": [
    "#### Ahora, queremos comparar si hay diferencias significativas entre `Attack` vs `Defense` y `Sp. Atk` vs `Sp. Def` de todos los Pokémon. Por favor, escribe tu código a continuación.\n",
    "\n",
    "*Pista: ¿estás comparando diferentes poblaciones o la misma población?*"
   ]
  },
  {
   "cell_type": "code",
   "execution_count": 16,
   "metadata": {},
   "outputs": [
    {
     "name": "stdout",
     "output_type": "stream",
     "text": [
      "Resultados de la prueba t pareada para comparar las características:\n",
      "Attack vs Defense: p-value = 1.7140303479358558e-05\n",
      "Sp. Atk vs Sp. Def: p-value = 0.3933685997548122\n"
     ]
    }
   ],
   "source": [
    "# Your code here\n",
    "\n",
    "from scipy.stats import ttest_rel\n",
    "\n",
    "\n",
    "# Definir las características a comparar\n",
    "features_pairs = [('Attack', 'Defense'), ('Sp. Atk', 'Sp. Def')]\n",
    "\n",
    "# Inicializar un diccionario para almacenar los valores p\n",
    "p_values_pairs = {}\n",
    "\n",
    "# Iterar sobre los pares de características y realizar la prueba t pareada para cada par\n",
    "for feature1, feature2 in features_pairs:\n",
    "    # Obtener los valores de las características para cada par\n",
    "    group1 = pokemon_data[feature1]\n",
    "    group2 = pokemon_data[feature2]\n",
    "\n",
    "    # Realizar la prueba t pareada\n",
    "    t_statistic, p_value = ttest_rel(group1, group2)\n",
    "    p_values_pairs[(feature1, feature2)] = p_value\n",
    "\n",
    "# Imprimir los resultados\n",
    "print(\"Resultados de la prueba t pareada para comparar las características:\")\n",
    "for (feature1, feature2), p_value in p_values_pairs.items():\n",
    "    print(f\"{feature1} vs {feature2}: p-value = {p_value}\")"
   ]
  },
  {
   "cell_type": "markdown",
   "metadata": {},
   "source": [
    "#### ¿Qué conclusiones puedes sacar?"
   ]
  },
  {
   "cell_type": "code",
   "execution_count": 20,
   "metadata": {},
   "outputs": [],
   "source": [
    "# Your comment here\n",
    "\n",
    "def analyze_ttest_results(p_values_dict, alpha=0.05):\n",
    "    conclusions = {}\n",
    "    for (feature1, feature2), p_value in p_values_dict.items():\n",
    "        if p_value < alpha:\n",
    "            conclusions[f\"{feature1} vs {feature2}\"] = 'Hay una diferencia significativa'\n",
    "        else:\n",
    "            conclusions[f\"{feature1} vs {feature2}\"] = 'No hay una diferencia significativa'\n",
    "    return conclusions"
   ]
  },
  {
   "cell_type": "code",
   "execution_count": 21,
   "metadata": {},
   "outputs": [
    {
     "data": {
      "text/plain": [
       "{'Attack vs Defense': 'Hay una diferencia significativa',\n",
       " 'Sp. Atk vs Sp. Def': 'No hay una diferencia significativa'}"
      ]
     },
     "execution_count": 21,
     "metadata": {},
     "output_type": "execute_result"
    }
   ],
   "source": [
    "conclusions = analyze_ttest_results(p_values_pairs)\n",
    "conclusions"
   ]
  }
 ],
 "metadata": {
  "kernelspec": {
   "display_name": "Python 3 (ipykernel)",
   "language": "python",
   "name": "python3"
  },
  "language_info": {
   "codemirror_mode": {
    "name": "ipython",
    "version": 3
   },
   "file_extension": ".py",
   "mimetype": "text/x-python",
   "name": "python",
   "nbconvert_exporter": "python",
   "pygments_lexer": "ipython3",
   "version": "3.10.12"
  }
 },
 "nbformat": 4,
 "nbformat_minor": 4
}
