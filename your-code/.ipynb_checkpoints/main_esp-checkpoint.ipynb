{
 "cells": [
  {
   "cell_type": "markdown",
   "metadata": {},
   "source": [
    "# Antes de empezar:\n",
    "- Lee el archivo README.md\n",
    "- Comenta tanto como puedas y utiliza los recursos (archivo README.md)\n",
    "- ¡Feliz aprendizaje!"
   ]
  },
  {
   "cell_type": "code",
   "execution_count": 4,
   "metadata": {},
   "outputs": [],
   "source": [
    "#import os\n",
    "#!pip3 install statsmodels"
   ]
  },
  {
   "cell_type": "code",
   "execution_count": 5,
   "metadata": {},
   "outputs": [],
   "source": [
    "# import numpy and pandas\n",
    "import pandas as pd\n",
    "import numpy as np\n",
    "from scipy.stats import trim_mean, mode, skew, gaussian_kde, pearsonr, spearmanr, beta\n",
    "from statsmodels.stats.weightstats import ztest as ztest\n",
    "\n",
    "from scipy.stats import ttest_ind, norm, t\n",
    "from scipy.stats import f_oneway\n",
    "from scipy.stats import sem"
   ]
  },
  {
   "cell_type": "markdown",
   "metadata": {},
   "source": [
    "# Reto 1 - Explorando los Datos\n",
    "\n",
    "En este reto, examinaremos todos los salarios de los empleados de la Ciudad de Chicago. Comenzaremos cargando el conjunto de datos y examinando su contenido."
   ]
  },
  {
   "cell_type": "code",
   "execution_count": 12,
   "metadata": {},
   "outputs": [
    {
     "data": {
      "text/plain": [
       "Name                  object\n",
       "Job Titles            object\n",
       "Department            object\n",
       "Full or Part-Time     object\n",
       "Salary or Hourly      object\n",
       "Typical Hours        float64\n",
       "Annual Salary        float64\n",
       "Hourly Rate          float64\n",
       "dtype: object"
      ]
     },
     "execution_count": 12,
     "metadata": {},
     "output_type": "execute_result"
    }
   ],
   "source": [
    "# Run this code:\n",
    "salaries = pd.read_csv('../data/Current_Employee_Names__Salaries__and_Position_Titles.csv')\n",
    "\n",
    "salaries.dtypes"
   ]
  },
  {
   "cell_type": "markdown",
   "metadata": {},
   "source": [
    "Examina el conjunto de datos `salaries` utilizando la función `head` que se muestra a continuación."
   ]
  },
  {
   "cell_type": "code",
   "execution_count": 11,
   "metadata": {},
   "outputs": [
    {
     "data": {
      "text/html": [
       "<div>\n",
       "<style scoped>\n",
       "    .dataframe tbody tr th:only-of-type {\n",
       "        vertical-align: middle;\n",
       "    }\n",
       "\n",
       "    .dataframe tbody tr th {\n",
       "        vertical-align: top;\n",
       "    }\n",
       "\n",
       "    .dataframe thead th {\n",
       "        text-align: right;\n",
       "    }\n",
       "</style>\n",
       "<table border=\"1\" class=\"dataframe\">\n",
       "  <thead>\n",
       "    <tr style=\"text-align: right;\">\n",
       "      <th></th>\n",
       "      <th>Name</th>\n",
       "      <th>Job Titles</th>\n",
       "      <th>Department</th>\n",
       "      <th>Full or Part-Time</th>\n",
       "      <th>Salary or Hourly</th>\n",
       "      <th>Typical Hours</th>\n",
       "      <th>Annual Salary</th>\n",
       "      <th>Hourly Rate</th>\n",
       "    </tr>\n",
       "  </thead>\n",
       "  <tbody>\n",
       "    <tr>\n",
       "      <th>0</th>\n",
       "      <td>AARON,  JEFFERY M</td>\n",
       "      <td>SERGEANT</td>\n",
       "      <td>POLICE</td>\n",
       "      <td>F</td>\n",
       "      <td>Salary</td>\n",
       "      <td>NaN</td>\n",
       "      <td>101442.0</td>\n",
       "      <td>NaN</td>\n",
       "    </tr>\n",
       "    <tr>\n",
       "      <th>1</th>\n",
       "      <td>AARON,  KARINA</td>\n",
       "      <td>POLICE OFFICER (ASSIGNED AS DETECTIVE)</td>\n",
       "      <td>POLICE</td>\n",
       "      <td>F</td>\n",
       "      <td>Salary</td>\n",
       "      <td>NaN</td>\n",
       "      <td>94122.0</td>\n",
       "      <td>NaN</td>\n",
       "    </tr>\n",
       "    <tr>\n",
       "      <th>2</th>\n",
       "      <td>AARON,  KIMBERLEI R</td>\n",
       "      <td>CHIEF CONTRACT EXPEDITER</td>\n",
       "      <td>GENERAL SERVICES</td>\n",
       "      <td>F</td>\n",
       "      <td>Salary</td>\n",
       "      <td>NaN</td>\n",
       "      <td>101592.0</td>\n",
       "      <td>NaN</td>\n",
       "    </tr>\n",
       "    <tr>\n",
       "      <th>3</th>\n",
       "      <td>ABAD JR,  VICENTE M</td>\n",
       "      <td>CIVIL ENGINEER IV</td>\n",
       "      <td>WATER MGMNT</td>\n",
       "      <td>F</td>\n",
       "      <td>Salary</td>\n",
       "      <td>NaN</td>\n",
       "      <td>110064.0</td>\n",
       "      <td>NaN</td>\n",
       "    </tr>\n",
       "    <tr>\n",
       "      <th>4</th>\n",
       "      <td>ABASCAL,  REECE E</td>\n",
       "      <td>TRAFFIC CONTROL AIDE-HOURLY</td>\n",
       "      <td>OEMC</td>\n",
       "      <td>P</td>\n",
       "      <td>Hourly</td>\n",
       "      <td>20.0</td>\n",
       "      <td>NaN</td>\n",
       "      <td>19.86</td>\n",
       "    </tr>\n",
       "  </tbody>\n",
       "</table>\n",
       "</div>"
      ],
      "text/plain": [
       "                  Name                              Job Titles  \\\n",
       "0    AARON,  JEFFERY M                                SERGEANT   \n",
       "1      AARON,  KARINA   POLICE OFFICER (ASSIGNED AS DETECTIVE)   \n",
       "2  AARON,  KIMBERLEI R                CHIEF CONTRACT EXPEDITER   \n",
       "3  ABAD JR,  VICENTE M                       CIVIL ENGINEER IV   \n",
       "4    ABASCAL,  REECE E             TRAFFIC CONTROL AIDE-HOURLY   \n",
       "\n",
       "         Department Full or Part-Time Salary or Hourly  Typical Hours  \\\n",
       "0            POLICE                 F           Salary            NaN   \n",
       "1            POLICE                 F           Salary            NaN   \n",
       "2  GENERAL SERVICES                 F           Salary            NaN   \n",
       "3       WATER MGMNT                 F           Salary            NaN   \n",
       "4              OEMC                 P           Hourly           20.0   \n",
       "\n",
       "   Annual Salary  Hourly Rate  \n",
       "0       101442.0          NaN  \n",
       "1        94122.0          NaN  \n",
       "2       101592.0          NaN  \n",
       "3       110064.0          NaN  \n",
       "4            NaN        19.86  "
      ]
     },
     "execution_count": 11,
     "metadata": {},
     "output_type": "execute_result"
    }
   ],
   "source": [
    "# Your code here\n",
    "\n",
    "salaries.head()"
   ]
  },
  {
   "cell_type": "markdown",
   "metadata": {},
   "source": [
    "# Reto 2 - Pruebas de Hipótesis\n",
    "\n",
    "En esta sección del laboratorio, vamos a probar si el salario por hora de todos los trabajadores por hora es significativamente diferente de $30/hora. Importa la función correcta para la prueba de una muestra desde scipy y realiza la prueba de hipótesis para un intervalo de confianza de dos lados del 95%."
   ]
  },
  {
   "cell_type": "markdown",
   "metadata": {},
   "source": [
    "#### Teoría detrás de las Pruebas de Hipótesis\n",
    "\n",
    "Cuando realizamos una prueba de hipótesis, estamos investigando si una afirmación sobre una población (en este caso, el salario por hora) es respaldada por los datos de una muestra. Aquí están los pasos clave:\n",
    "\n",
    "1. **Hipótesis:**\n",
    "   - Tenemos dos hipótesis:\n",
    "     - **Hipótesis nula ($H_0$):** El salario por hora es igual a $30 por hora$.\n",
    "     - **Hipótesis alternativa ($H_1$):** El salario por hora no es igual a $30 por hora$.\n",
    "\n",
    "2. **Prueba Estadística:**\n",
    "   - Utilizaremos una prueba t de una muestra, implementada en Python con la función `ttest_1samp` de `scipy.stats`.\n",
    "   - Esta prueba nos permite comparar la media de nuestra muestra (los salarios por hora que tenemos en nuestros datos) con un valor específico ($30 por hora$ en este caso).\n",
    "\n",
    "3. **Nivel de Confianza:**\n",
    "   - Estableceremos un intervalo de confianza del 95%. Esto significa que estamos bastante seguros de nuestras conclusiones si encontramos que el salario por hora es significativamente diferente de $30 por hora$.\n",
    "\n",
    "4. **Proceso de la Prueba:**\n",
    "   - Definimos el nivel de significancia (alpha), típicamente establecido en 0.05.\n",
    "   - Extraemos los datos de salarios por hora del conjunto de datos (eliminando NaN si los hubiera).\n",
    "   - Aplicamos la prueba de hipótesis utilizando `ttest_1samp(hourly_rates, 30)`, donde `hourly_rates` son los salarios por hora de nuestra muestra y `30` es el valor de comparación.\n",
    "   - La prueba nos devuelve un valor estadístico t y un valor p.\n",
    "     - El valor t indica cuánto se desvía la media de nuestros salarios por hora de $30 por hora$ en términos de la variabilidad de la muestra.\n",
    "     - El valor p nos indica la probabilidad de obtener una muestra como la nuestra si la hipótesis nula ($H_0$: salario = $30 por hora$) fuera verdadera.\n",
    "\n",
    "5. **Interpretación de los Resultados:**\n",
    "   - Comparamos el valor p obtenido con nuestro nivel de significancia (alpha).\n",
    "   - Si el valor p es menor que alpha, rechazamos la hipótesis nula ($H_0$) y concluimos que hay evidencia suficiente para afirmar que el salario por hora es significativamente diferente de $30 por hora$.\n",
    "   - Si el valor p es mayor que alpha, no tenemos suficiente evidencia para rechazar la hipótesis nula y concluimos que no hay diferencia significativa en el salario por hora.\n",
    "\n",
    "Este proceso nos permite utilizar datos muestrales para hacer inferencias sobre la población más amplia de trabajadores por hora en Chicago en términos de sus salarios por hora."
   ]
  },
  {
   "cell_type": "code",
   "execution_count": 17,
   "metadata": {},
   "outputs": [],
   "source": [
    "# Your code here\n",
    "\n",
    "from scipy.stats import ttest_1samp"
   ]
  },
  {
   "cell_type": "code",
   "execution_count": 16,
   "metadata": {},
   "outputs": [
    {
     "name": "stdout",
     "output_type": "stream",
     "text": [
      "Prueba de hipótesis de una muestra:\n",
      "Estadístico t: 20.6198057854942\n",
      "Valor p: 4.3230240486229894e-92\n",
      "Podemos rechazar la hipótesis nula (H0). El salario por hora es significativamente diferente de $30/hora.\n"
     ]
    }
   ],
   "source": [
    "# Definir el nivel de significancia (alpha)\n",
    "alpha = 0.05\n",
    "\n",
    "# Extraer los salarios por hora del DataFrame (suponiendo que 'Hourly Rate' contiene estos datos)\n",
    "hourly_rates = salaries['Hourly Rate'].dropna()  # Eliminar NaN si los hubiera\n",
    "\n",
    "# Realizar la prueba de hipótesis\n",
    "t_statistic, p_value = ttest_1samp(hourly_rates, 30)\n",
    "\n",
    "# Imprimir los resultados\n",
    "print(\"Prueba de hipótesis de una muestra:\")\n",
    "print(f\"Estadístico t: {t_statistic}\")\n",
    "print(f\"Valor p: {p_value}\")\n",
    "\n",
    "# Comparar el valor p con el nivel de significancia\n",
    "if p_value < alpha:\n",
    "    print(\"Podemos rechazar la hipótesis nula (H0). El salario por hora es significativamente diferente de $30/hora.\")\n",
    "else:\n",
    "    print(\"No podemos rechazar la hipótesis nula (H0). No hay evidencia suficiente para concluir que el salario por hora difiere significativamente de $30/hora.\")\n"
   ]
  },
  {
   "cell_type": "markdown",
   "metadata": {},
   "source": [
    "# Reto 3 - Construyendo Intervalos de Confianza\n",
    "\n",
    "Aunque probar nuestra hipótesis es una excelente manera de obtener evidencia empírica para aceptar o rechazar la hipótesis, otra forma de recopilar evidencia es creando un intervalo de confianza. Un intervalo de confianza nos brinda información sobre la media verdadera de la población. Por lo tanto, para un intervalo de confianza del 95%, estamos seguros en un 95% de que la media de la población se encuentra dentro del intervalo de confianza.\n",
    "\n",
    "Para leer más sobre los intervalos de confianza, haz clic [aquí](https://es.wikipedia.org/wiki/Intervalo_de_confianza).\n",
    "\n",
    "En la celda a continuación, construiremos un intervalo de confianza del 95% para el salario por hora medio de todos los trabajadores por hora.\n",
    "\n",
    "El intervalo de confianza se calcula en SciPy utilizando la función `t.interval`. Puedes leer más sobre esta función [aquí](https://docs.scipy.org/doc/scipy-0.14.0/reference/generated/scipy.stats.t.html).\n",
    "\n",
    "Para calcular el intervalo de confianza del salario por hora, usa 0.95 para el nivel de confianza, el número de filas - 1 para los grados de libertad, la media de la muestra para el parámetro de ubicación y el error estándar para la escala. El error estándar se puede calcular utilizando [esta](https://docs.scipy.org/doc/scipy/reference/generated/scipy.stats.sem.html) función en SciPy."
   ]
  },
  {
   "cell_type": "markdown",
   "metadata": {},
   "source": [
    "#### Teoría detrás de la Construcción de Intervalos de Confianza\n",
    "\n",
    "Un intervalo de confianza es una herramienta estadística que nos proporciona un rango de valores en el cual es probable que se encuentre un parámetro de interés de la población, como la media.\n",
    "\n",
    "1. **Importancia del Intervalo de Confianza:**\n",
    "   - Mientras que las pruebas de hipótesis nos ayudan a evaluar afirmaciones específicas sobre los parámetros poblacionales, los intervalos de confianza nos ofrecen una estimación de dónde podría estar ese parámetro con cierto grado de certeza.\n",
    "\n",
    "2. **Construcción del Intervalo de Confianza:**\n",
    "   - Para construir un intervalo de confianza del 95% para el salario por hora medio:\n",
    "     - **Nivel de Confianza del 95%:** Esto significa que si repitiéramos este proceso muchas veces, esperaríamos que el 95% de los intervalos calculados contengan la verdadera media poblacional.\n",
    "     - **Cálculo del Intervalo:**\n",
    "       - Utilizamos la función `t.interval` de SciPy, que calcula el intervalo de confianza utilizando la distribución t de Student.\n",
    "       - Parámetros necesarios:\n",
    "         - Nivel de confianza de 0.95.\n",
    "         - Grados de libertad, generalmente el número de observaciones menos uno.\n",
    "         - Media de la muestra, que es el parámetro de ubicación.\n",
    "         - Error estándar, que se calcula utilizando la función `sem` de SciPy.\n",
    "\n",
    "3. **Interpretación del Intervalo de Confianza:**\n",
    "   - Una vez calculado el intervalo de confianza, podemos afirmar con un 95% de confianza que la media verdadera del salario por hora de todos los trabajadores por hora en la Ciudad de Chicago se encuentra dentro de este intervalo.\n",
    "\n",
    "4. **Aplicación Práctica:**\n",
    "   - Este intervalo nos proporciona una estimación más completa y robusta que una simple prueba de hipótesis, ya que nos permite cuantificar la incertidumbre asociada con nuestra estimación de la media poblacional.\n",
    "\n",
    "En resumen, construir un intervalo de confianza del 95% nos ayuda a entender mejor el rango plausible de la media del salario por hora para todos los trabajadores por hora en Chicago, basado en nuestros datos muestrales."
   ]
  },
  {
   "cell_type": "code",
   "execution_count": 18,
   "metadata": {},
   "outputs": [
    {
     "name": "stdout",
     "output_type": "stream",
     "text": [
      "Intervalo de confianza del 95.0% para el salario por hora medio:\n",
      "($32.52, $33.05)\n"
     ]
    }
   ],
   "source": [
    "# Your code here\n",
    "\n",
    "# Calcular la media muestral y el error estándar\n",
    "mean_hourly_rate = np.mean(hourly_rates)\n",
    "std_error_hourly_rate = sem(hourly_rates)\n",
    "\n",
    "# Calcular el intervalo de confianza del 95%\n",
    "confidence_level = 0.95\n",
    "degrees_freedom = len(hourly_rates) - 1\n",
    "interval = t.interval(confidence_level, degrees_freedom, loc=mean_hourly_rate, scale=std_error_hourly_rate)\n",
    "\n",
    "# Imprimir el intervalo de confianza\n",
    "print(f\"Intervalo de confianza del {confidence_level*100}% para el salario por hora medio:\")\n",
    "print(f\"(${interval[0]:.2f}, ${interval[1]:.2f})\")"
   ]
  },
  {
   "cell_type": "markdown",
   "metadata": {},
   "source": [
    "# Reto 4 - Pruebas de Hipótesis de Proporciones\n",
    "\n",
    "Otro tipo de prueba de una muestra es una prueba de hipótesis de proporciones. En esta prueba, examinamos si la proporción de un grupo en nuestra muestra es significativamente diferente de una fracción.\n",
    "\n",
    "Puedes leer más sobre las pruebas de proporción de una muestra [aquí](http://sphweb.bumc.bu.edu/otlt/MPH-Modules/BS/SAS/SAS6-CategoricalData/SAS6-CategoricalData2.html).\n",
    "\n",
    "En la celda a continuación, utiliza la función `proportions_ztest` de `statsmodels` para realizar una prueba de hipótesis que determinará si el número de trabajadores por hora en la Ciudad de Chicago es significativamente diferente del 25% en el nivel de confianza del 95%."
   ]
  },
  {
   "cell_type": "markdown",
   "metadata": {},
   "source": [
    "#### Teoría detrás de las Pruebas de Hipótesis de Proporciones\n",
    "\n",
    "Las pruebas de hipótesis de proporciones son utilizadas cuando queremos evaluar si la proporción de un grupo en nuestra muestra difiere significativamente de una fracción específica.\n",
    "\n",
    "1. **Hipótesis:**\n",
    "   - Establecemos dos hipótesis:\n",
    "     - **Hipótesis nula ($H_0$):** La proporción de trabajadores por hora es igual al 25%.\n",
    "     - **Hipótesis alternativa ($H_1$):** La proporción de trabajadores por hora no es igual al 25%.\n",
    "\n",
    "2. **Prueba Estadística:**\n",
    "   - Utilizaremos la función `proportions_ztest` de `statsmodels.stats.proportion`.\n",
    "   - Esta prueba nos permite comparar la proporción observada en nuestra muestra con una proporción específica (en este caso, 0.25 o 25%).\n",
    "\n",
    "3. **Nivel de Confianza:**\n",
    "   - Establecemos un nivel de confianza del 95%, lo que significa que si encontramos que la proporción de trabajadores por hora es significativamente diferente de 25%, podemos confiar en nuestra conclusión el 95% del tiempo.\n",
    "\n",
    "4. **Proceso de la Prueba:**\n",
    "   - La función `proportions_ztest` calculará automáticamente el estadístico z y el valor p para nosotros.\n",
    "     - El estadístico z mide cuántos errores estándar está la proporción de nuestra muestra lejos de la proporción hipotética de 25%.\n",
    "     - El valor p nos indica la probabilidad de obtener una muestra como la nuestra si la hipótesis nula ($H_0$: proporción = 0.25) fuera verdadera.\n",
    "\n",
    "5. **Interpretación de los Resultados:**\n",
    "   - Comparamos el valor p obtenido con nuestro nivel de significancia (generalmente 0.05 para un nivel de confianza del 95%).\n",
    "   - Si el valor p es menor que nuestro nivel de significancia, rechazamos la hipótesis nula ($H_0$) y concluimos que la proporción de trabajadores por hora es significativamente diferente del 25%.\n",
    "   - Si el valor p es mayor que nuestro nivel de significancia, no tenemos suficiente evidencia para rechazar la hipótesis nula y concluimos que no hay diferencia significativa en la proporción de trabajadores por hora.\n",
    "\n",
    "Este proceso nos permite evaluar si la proporción de trabajadores por hora en Chicago es diferente del 25%, utilizando datos muestrales y una prueba estadística adecuada."
   ]
  },
  {
   "cell_type": "code",
   "execution_count": 20,
   "metadata": {},
   "outputs": [],
   "source": [
    "from statsmodels.stats.proportion import proportions_ztest"
   ]
  },
  {
   "cell_type": "code",
   "execution_count": 21,
   "metadata": {},
   "outputs": [
    {
     "name": "stdout",
     "output_type": "stream",
     "text": [
      "Prueba de hipótesis de proporciones:\n",
      "Valor z: -3.5099964213703005\n",
      "Valor p: 0.0004481127249057967\n",
      "Podemos rechazar la hipótesis nula (H0). La proporción de trabajadores por hora es significativamente diferente del 25%.\n"
     ]
    }
   ],
   "source": [
    "# Your code here\n",
    "\n",
    "# Definir los parámetros de la prueba\n",
    "count = len(salaries[salaries['Salary or Hourly'] == 'Hourly'])  # Número de trabajadores por hora\n",
    "nobs = len(salaries)  # Número total de empleados\n",
    "\n",
    "# Definir la proporción hipotética bajo la hipótesis nula\n",
    "p_null = 0.25\n",
    "\n",
    "# Realizar la prueba de hipótesis de proporciones\n",
    "stat, p_value = proportions_ztest(count, nobs, p_null)\n",
    "\n",
    "# Imprimir los resultados\n",
    "print(\"Prueba de hipótesis de proporciones:\")\n",
    "print(f\"Valor z: {stat}\")\n",
    "print(f\"Valor p: {p_value}\")\n",
    "\n",
    "# Comparar el valor p con el nivel de significancia (alpha)\n",
    "alpha = 0.05\n",
    "if p_value < alpha:\n",
    "    print(\"Podemos rechazar la hipótesis nula (H0). La proporción de trabajadores por hora es significativamente diferente del 25%.\")\n",
    "else:\n",
    "    print(\"No podemos rechazar la hipótesis nula (H0). No hay suficiente evidencia para concluir que la proporción de trabajadores por hora difiere significativamente del 25%.\")"
   ]
  }
 ],
 "metadata": {
  "kernelspec": {
   "display_name": "Python 3 (ipykernel)",
   "language": "python",
   "name": "python3"
  },
  "language_info": {
   "codemirror_mode": {
    "name": "ipython",
    "version": 3
   },
   "file_extension": ".py",
   "mimetype": "text/x-python",
   "name": "python",
   "nbconvert_exporter": "python",
   "pygments_lexer": "ipython3",
   "version": "3.10.12"
  }
 },
 "nbformat": 4,
 "nbformat_minor": 4
}
